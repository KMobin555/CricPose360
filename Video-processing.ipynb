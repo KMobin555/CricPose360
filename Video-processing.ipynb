{
 "cells": [
  {
   "cell_type": "code",
   "execution_count": null,
   "metadata": {
    "execution": {
     "iopub.execute_input": "2024-09-14T11:43:17.052109Z",
     "iopub.status.busy": "2024-09-14T11:43:17.051787Z",
     "iopub.status.idle": "2024-09-14T11:43:58.520563Z",
     "shell.execute_reply": "2024-09-14T11:43:58.519721Z",
     "shell.execute_reply.started": "2024-09-14T11:43:17.052076Z"
    },
    "trusted": true
   },
   "outputs": [],
   "source": [
    "import shutil\n",
    "import os\n",
    "\n",
    "def copy_directories(src_root, dest_root):\n",
    "    # Create destination root directory if it doesn't exist\n",
    "    os.makedirs(dest_root, exist_ok=True)\n",
    "\n",
    "    # Walk through the source directory\n",
    "    for dirpath, dirnames, filenames in os.walk(src_root):\n",
    "        # Create corresponding directory structure in the destination\n",
    "        relative_path = os.path.relpath(dirpath, src_root)\n",
    "        dest_dir = os.path.join(dest_root, relative_path)\n",
    "        os.makedirs(dest_dir, exist_ok=True)\n",
    "\n",
    "        # Copy files to the destination directory\n",
    "        for filename in filenames:\n",
    "            src_file = os.path.join(dirpath, filename)\n",
    "            dest_file = os.path.join(dest_dir, filename)\n",
    "            shutil.copy2(src_file, dest_file)\n",
    "\n",
    "# Define source and destination directories\n",
    "source_directory = '/kaggle/input/cric-pose-v2/cric_pose_v2'\n",
    "destination_directory = '/kaggle/working/cricshot-yolo-ano'\n",
    "\n",
    "# Copy the directories and files\n",
    "copy_directories(source_directory, destination_directory)\n"
   ]
  },
  {
   "cell_type": "code",
   "execution_count": null,
   "metadata": {
    "execution": {
     "iopub.execute_input": "2024-09-14T11:43:58.522299Z",
     "iopub.status.busy": "2024-09-14T11:43:58.522003Z",
     "iopub.status.idle": "2024-09-14T11:44:28.252367Z",
     "shell.execute_reply": "2024-09-14T11:44:28.251162Z",
     "shell.execute_reply.started": "2024-09-14T11:43:58.522267Z"
    },
    "trusted": true
   },
   "outputs": [],
   "source": [
    "!pip install -q ultralytics\n",
    "!pip install -q ffmpeg-python\n"
   ]
  },
  {
   "cell_type": "code",
   "execution_count": null,
   "metadata": {
    "execution": {
     "iopub.execute_input": "2024-09-14T11:47:41.856138Z",
     "iopub.status.busy": "2024-09-14T11:47:41.855123Z",
     "iopub.status.idle": "2024-09-14T11:47:41.870280Z",
     "shell.execute_reply": "2024-09-14T11:47:41.869135Z",
     "shell.execute_reply.started": "2024-09-14T11:47:41.856092Z"
    },
    "trusted": true
   },
   "outputs": [],
   "source": [
    "import ffmpeg\n",
    "import os\n",
    "import shutil\n",
    "import cv2\n",
    "from ultralytics import YOLO\n",
    "\n",
    "def convert_to_yolo_annotated_vid(model, src, des):\n",
    "    # Directory to save the processed frames\n",
    "    output_dir = '/kaggle/working/processed_frames'\n",
    "    os.makedirs(output_dir, exist_ok=True)\n",
    "\n",
    "    # Open the video file\n",
    "    cap = cv2.VideoCapture(src)\n",
    "\n",
    "    # Initialize frame counter\n",
    "    frame_number = 0\n",
    "\n",
    "    # Process video frames\n",
    "    while cap.isOpened():\n",
    "        ret, frame = cap.read()\n",
    "        if not ret:\n",
    "            break\n",
    "\n",
    "        # Zoom factor (e.g., 1.2 means a 20% zoom)\n",
    "        zoom_factor = 1.0\n",
    "\n",
    "        # Get the frame dimensions\n",
    "        h, w, _ = frame.shape\n",
    "\n",
    "        # Calculate the cropping area\n",
    "        crop_h = int(h / zoom_factor)\n",
    "        crop_w = int(w / zoom_factor)\n",
    "        start_h = (h - crop_h) // 2\n",
    "        start_w = (w - crop_w) // 2\n",
    "\n",
    "        # Crop and resize the frame\n",
    "        zoomed_frame = frame[start_h:start_h + crop_h, start_w:start_w + crop_w]\n",
    "        zoomed_frame = cv2.resize(zoomed_frame, (w, h))\n",
    "\n",
    "        # Run YOLOv8 inference on the zoomed frame\n",
    "        results = model(zoomed_frame)\n",
    "        \n",
    "        # Extract keypoints and ensure no bounding boxes are displayed\n",
    "        for result in results:\n",
    "            # Remove bounding boxes by setting them to None or empty list\n",
    "            result.boxes = None  # Disables bounding box rendering\n",
    "\n",
    "        # Visualize the results on the zoomed frame\n",
    "        annotated_frame = results[0].plot()\n",
    "\n",
    "        # Save the annotated frame as an image\n",
    "        output_frame_path = os.path.join(output_dir, f\"frame_{frame_number:04d}.jpg\")\n",
    "        cv2.imwrite(output_frame_path, annotated_frame)\n",
    "        frame_number += 1\n",
    "\n",
    "    # Release the video capture object\n",
    "    cap.release()\n",
    "\n",
    "    # Define the path to the input frames and the output video file\n",
    "    input_frames_path = os.path.join(output_dir, 'frame_%04d.jpg')\n",
    "    output_video_path = des\n",
    "\n",
    "    # Set the frame rate\n",
    "    frame_rate = 32\n",
    "\n",
    "    # Use ffmpeg to create the video\n",
    "    ffmpeg.input(input_frames_path, framerate=frame_rate)\\\n",
    "          .output(output_video_path, vcodec='libx264', pix_fmt='yuv420p')\\\n",
    "          .overwrite_output()\\\n",
    "          .run()\n",
    "\n",
    "    # Remove all files in the processed_frames directory\n",
    "    shutil.rmtree(output_dir)\n",
    "    \n",
    "    print(f\"Video saved at {output_video_path}\")\n",
    "\n",
    "def process_videos_in_directory(model, root_dir):\n",
    "    # Walk through the directory structure\n",
    "    for dirpath, dirnames, filenames in os.walk(root_dir):\n",
    "        for filename in filenames:\n",
    "            if filename.endswith('.mp4'):\n",
    "                # Construct full file path\n",
    "                src = os.path.join(dirpath, filename)\n",
    "                des = os.path.join(dirpath, filename)\n",
    "                \n",
    "                # Process the video and save it\n",
    "                convert_to_yolo_annotated_vid(model, src, des)"
   ]
  },
  {
   "cell_type": "code",
   "execution_count": null,
   "metadata": {
    "execution": {
     "iopub.execute_input": "2024-09-14T11:44:32.444360Z",
     "iopub.status.busy": "2024-09-14T11:44:32.443956Z",
     "iopub.status.idle": "2024-09-14T11:44:34.579226Z",
     "shell.execute_reply": "2024-09-14T11:44:34.578443Z",
     "shell.execute_reply.started": "2024-09-14T11:44:32.444328Z"
    },
    "scrolled": true,
    "trusted": true
   },
   "outputs": [],
   "source": [
    "from ultralytics import YOLO\n",
    "\n",
    "# Load the YOLOv8 pose model\n",
    "model = YOLO('yolov8l-pose.pt')\n",
    "\n",
    "# Define the root directory where the train, val, and test folders are located\n",
    "root_dir = '/kaggle/working/cricshot-yolo-ano'\n",
    "\n",
    "# Process all videos in the directory tree\n",
    "process_videos_in_directory(model, root_dir)"
   ]
  },
  {
   "cell_type": "code",
   "execution_count": null,
   "metadata": {
    "execution": {
     "iopub.execute_input": "2024-09-14T11:48:35.014012Z",
     "iopub.status.busy": "2024-09-14T11:48:35.013308Z",
     "iopub.status.idle": "2024-09-14T11:48:40.053236Z",
     "shell.execute_reply": "2024-09-14T11:48:40.052121Z",
     "shell.execute_reply.started": "2024-09-14T11:48:35.013970Z"
    },
    "scrolled": true,
    "trusted": true
   },
   "outputs": [],
   "source": [
    "# src = '/kaggle/working/cricshot-yolo-ano/test/lofted/lofted_0014.mp4'\n",
    "# des = src\n",
    "# convert_to_yolo_annotated_vid(model,src,des)\n",
    "\n",
    "# src = '/kaggle/working/cricshot-yolo-ano/sweep/sweep_0012.mp4'\n",
    "# convert_to_yolo_annotated_vid(model,src,src)"
   ]
  },
  {
   "cell_type": "code",
   "execution_count": null,
   "metadata": {
    "execution": {
     "iopub.execute_input": "2024-09-14T11:48:40.055823Z",
     "iopub.status.busy": "2024-09-14T11:48:40.055019Z",
     "iopub.status.idle": "2024-09-14T11:48:40.074953Z",
     "shell.execute_reply": "2024-09-14T11:48:40.074018Z",
     "shell.execute_reply.started": "2024-09-14T11:48:40.055785Z"
    },
    "trusted": true
   },
   "outputs": [],
   "source": [
    "import cv2\n",
    "import matplotlib.pyplot as plt\n",
    "from IPython.display import Video\n",
    "\n",
    "# Path to the video file\n",
    "video_path = '/kaggle/working/cricshot-yolo-ano/cover/cover_0101.mp4'\n",
    "\n",
    "# Display the video in the notebook\n",
    "Video(src, embed=True)\n"
   ]
  },
  {
   "cell_type": "code",
   "execution_count": null,
   "metadata": {
    "execution": {
     "iopub.status.busy": "2024-08-30T09:10:26.644888Z",
     "iopub.status.idle": "2024-08-30T09:10:26.645250Z",
     "shell.execute_reply": "2024-08-30T09:10:26.645095Z",
     "shell.execute_reply.started": "2024-08-30T09:10:26.645076Z"
    },
    "trusted": true
   },
   "outputs": [],
   "source": [
    "import cv2\n",
    "import matplotlib.pyplot as plt\n",
    "from IPython.display import Video\n",
    "\n",
    "# Path to the video file\n",
    "video_path = '/kaggle/working/cricshot-yolo-ano/cover/cover_0101.mp4'\n",
    "\n",
    "# Display the video in the notebook\n",
    "Video(video_path, embed=True)\n"
   ]
  },
  {
   "cell_type": "code",
   "execution_count": null,
   "metadata": {
    "execution": {
     "iopub.status.busy": "2024-08-30T09:10:26.647795Z",
     "iopub.status.idle": "2024-08-30T09:10:26.648180Z",
     "shell.execute_reply": "2024-08-30T09:10:26.648028Z",
     "shell.execute_reply.started": "2024-08-30T09:10:26.648010Z"
    },
    "trusted": true
   },
   "outputs": [],
   "source": [
    "import os\n",
    "import shutil\n",
    "\n",
    "def clear_directory_except(root_dir, folder_to_keep):\n",
    "    for item in os.listdir(root_dir):\n",
    "        item_path = os.path.join(root_dir, item)\n",
    "        if item == folder_to_keep:\n",
    "            continue\n",
    "        if os.path.isdir(item_path):\n",
    "            shutil.rmtree(item_path)\n",
    "        else:\n",
    "            os.remove(item_path)\n",
    "\n",
    "# Example usage\n",
    "root_directory = '/kaggle/working/'\n",
    "folder_to_preserve = 'cricshot-yolo-ano'\n",
    "clear_directory_except(root_directory, folder_to_preserve)\n"
   ]
  },
  {
   "cell_type": "code",
   "execution_count": null,
   "metadata": {},
   "outputs": [],
   "source": []
  }
 ],
 "metadata": {
  "kaggle": {
   "accelerator": "gpu",
   "dataSources": [
    {
     "datasetId": 5548261,
     "sourceId": 9179757,
     "sourceType": "datasetVersion"
    },
    {
     "datasetId": 5603191,
     "sourceId": 9260373,
     "sourceType": "datasetVersion"
    },
    {
     "datasetId": 5699846,
     "sourceId": 9392330,
     "sourceType": "datasetVersion"
    }
   ],
   "dockerImageVersionId": 30762,
   "isGpuEnabled": true,
   "isInternetEnabled": true,
   "language": "python",
   "sourceType": "notebook"
  },
  "kernelspec": {
   "display_name": "Python 3",
   "language": "python",
   "name": "python3"
  },
  "language_info": {
   "codemirror_mode": {
    "name": "ipython",
    "version": 3
   },
   "file_extension": ".py",
   "mimetype": "text/x-python",
   "name": "python",
   "nbconvert_exporter": "python",
   "pygments_lexer": "ipython3",
   "version": "3.10.14"
  }
 },
 "nbformat": 4,
 "nbformat_minor": 4
}
